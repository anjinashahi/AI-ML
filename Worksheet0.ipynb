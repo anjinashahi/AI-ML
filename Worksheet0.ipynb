{
 "cells": [
  {
   "cell_type": "code",
   "execution_count": 3,
   "id": "9f8bc6d6-a2d1-47af-88f3-bee35724a151",
   "metadata": {},
   "outputs": [
    {
     "name": "stdout",
     "output_type": "stream",
     "text": [
      "Empty Array (2x2):\n",
      "[[5.e-324 4.e-323]\n",
      " [4.e-323 4.e-323]]\n",
      "\n",
      "All Ones Array:\n",
      "[[1. 1.]\n",
      " [1. 1.]\n",
      " [1. 1.]\n",
      " [1. 1.]]\n",
      "\n",
      "Filled Array (3x3) with value 7:\n",
      "[[7 7 7]\n",
      " [7 7 7]\n",
      " [7 7 7]]\n",
      "\n",
      "Zeros Like Array:\n",
      "[[0 0]\n",
      " [0 0]]\n",
      "\n",
      "Ones Like Array:\n",
      "[[1 1]\n",
      " [1 1]]\n",
      "\n",
      "Numpy Array from List:\n",
      "[1 2 3 4]\n"
     ]
    }
   ],
   "source": [
    "import numpy as np\n",
    "empty_array = np.empty((2, 2))\n",
    "print(\"Empty Array (2x2):\")\n",
    "print(empty_array)\n",
    "\n",
    "ones_array = np.ones((4, 2))\n",
    "print(\"\\nAll Ones Array:\")\n",
    "print(ones_array)\n",
    "\n",
    "shape = (3, 3)\n",
    "fill_value = 7\n",
    "filled_array = np.full(shape, fill_value)\n",
    "print(\"\\nFilled Array (3x3) with value 7:\")\n",
    "print(filled_array)\n",
    "\n",
    "reference_array = np.array([[1, 2], [3, 4]])\n",
    "zeros_like_array = np.zeros_like(reference_array)\n",
    "print(\"\\nZeros Like Array:\")\n",
    "print(zeros_like_array)\n",
    "\n",
    "\n",
    "ones_like_array = np.ones_like(reference_array)\n",
    "print(\"\\nOnes Like Array:\")\n",
    "print(ones_like_array)\n",
    "\n",
    "new_list = [1, 2, 3, 4]\n",
    "numpy_array = np.array(new_list)\n",
    "print(\"\\nNumpy Array from List:\")\n",
    "print(numpy_array)\n"
   ]
  },
  {
   "cell_type": "code",
   "execution_count": 5,
   "id": "c219ee17-f725-4a39-8670-2b45507babde",
   "metadata": {},
   "outputs": [
    {
     "name": "stdout",
     "output_type": "stream",
     "text": [
      "Array from 10 to 49:\n",
      "[10 11 12 13 14 15 16 17 18 19 20 21 22 23 24 25 26 27 28 29 30 31 32 33\n",
      " 34 35 36 37 38 39 40 41 42 43 44 45 46 47 48 49]\n"
     ]
    }
   ],
   "source": [
    "array_10_49 = np.arange(10, 50)\n",
    "print(\"Array from 10 to 49:\")\n",
    "print(array_10_49)"
   ]
  },
  {
   "cell_type": "code",
   "execution_count": 7,
   "id": "dd76291c-b2c3-46a3-a5e0-40aa5f39fae5",
   "metadata": {},
   "outputs": [
    {
     "name": "stdout",
     "output_type": "stream",
     "text": [
      "\n",
      "3X3 Matrix with values ranging from 0 to 8:\n",
      "[[0 1 2]\n",
      " [3 4 5]\n",
      " [6 7 8]]\n"
     ]
    }
   ],
   "source": [
    "matrix_3x3 = np.arange(9).reshape(3, 3)\n",
    "print(\"\\n3X3 Matrix with values ranging from 0 to 8:\")\n",
    "print(matrix_3x3)\n"
   ]
  },
  {
   "cell_type": "code",
   "execution_count": 9,
   "id": "0970e1af-00a4-4aa3-884d-777b65f733c0",
   "metadata": {},
   "outputs": [
    {
     "name": "stdout",
     "output_type": "stream",
     "text": [
      "\n",
      "3X3 Identity Matrix:\n",
      "[[1. 0. 0.]\n",
      " [0. 1. 0.]\n",
      " [0. 0. 1.]]\n"
     ]
    }
   ],
   "source": [
    "identity_matrix = np.eye(3)\n",
    "print(\"\\n3X3 Identity Matrix:\")\n",
    "print(identity_matrix)"
   ]
  },
  {
   "cell_type": "code",
   "execution_count": 11,
   "id": "6bed55ff-1526-4f84-a2e2-c12602fa61fd",
   "metadata": {},
   "outputs": [
    {
     "name": "stdout",
     "output_type": "stream",
     "text": [
      "\n",
      "Random Array of size 30:\n",
      "[0.65081863 0.36436728 0.47346413 0.49228813 0.43743237 0.09265019\n",
      " 0.15476102 0.53244988 0.58451092 0.85532077 0.18670672 0.46335236\n",
      " 0.73979371 0.97035995 0.67061839 0.73888445 0.13458236 0.67301455\n",
      " 0.97285673 0.11446048 0.35154962 0.31852285 0.10317432 0.37614372\n",
      " 0.93013128 0.84073108 0.16320245 0.35994912 0.67390169 0.51653966]\n",
      "Mean of Random Array: 0.497884626467226\n"
     ]
    }
   ],
   "source": [
    "random_array = np.random.random(30)\n",
    "mean_random_array = random_array.mean()\n",
    "print(\"\\nRandom Array of size 30:\")\n",
    "print(random_array)\n",
    "print(\"Mean of Random Array:\", mean_random_array)"
   ]
  },
  {
   "cell_type": "code",
   "execution_count": 13,
   "id": "9d202eb5-6c13-4e24-9841-377b34080853",
   "metadata": {},
   "outputs": [
    {
     "name": "stdout",
     "output_type": "stream",
     "text": [
      "\n",
      "10X10 Random Array:\n",
      "[[0.03336425 0.18094798 0.05012348 0.54677883 0.95751178 0.11759219\n",
      "  0.0809369  0.24687481 0.63941862 0.5375404 ]\n",
      " [0.90571185 0.89269526 0.81816163 0.89980099 0.80391871 0.55489457\n",
      "  0.71909664 0.89509704 0.69038665 0.01187533]\n",
      " [0.5386454  0.82720984 0.82821262 0.651181   0.85044538 0.14663853\n",
      "  0.12214686 0.37883874 0.43234914 0.86060167]\n",
      " [0.50562012 0.13492157 0.46824946 0.98070668 0.5174245  0.87609495\n",
      "  0.29355109 0.22914018 0.25733334 0.1258551 ]\n",
      " [0.29666056 0.72833844 0.68634627 0.26566122 0.01283976 0.02262658\n",
      "  0.85727713 0.75560456 0.41738033 0.47008153]\n",
      " [0.1466291  0.70043993 0.15780487 0.14272997 0.02575019 0.63394258\n",
      "  0.02725138 0.30848322 0.63917632 0.4119987 ]\n",
      " [0.78186133 0.19689488 0.26242074 0.71884799 0.94112099 0.8681703\n",
      "  0.58171516 0.71347614 0.1391196  0.9272772 ]\n",
      " [0.88018294 0.11997405 0.72855236 0.68422048 0.97092278 0.3267028\n",
      "  0.25622378 0.49108743 0.75388473 0.29680796]\n",
      " [0.63788896 0.17986439 0.61105693 0.35532216 0.58725792 0.29610483\n",
      "  0.21949798 0.64769311 0.14187409 0.23253026]\n",
      " [0.75248639 0.2297961  0.14875429 0.51796202 0.27801621 0.50782955\n",
      "  0.01427456 0.6265597  0.89227434 0.37166158]]\n",
      "Minimum Value: 0.011875333511168762\n",
      "Maximum Value: 0.9807066836545528\n"
     ]
    }
   ],
   "source": [
    "random_10x10 = np.random.random((10, 10))\n",
    "min_value = random_10x10.min()\n",
    "max_value = random_10x10.max()\n",
    "print(\"\\n10X10 Random Array:\")\n",
    "print(random_10x10)\n",
    "print(\"Minimum Value:\", min_value)\n",
    "print(\"Maximum Value:\", max_value)"
   ]
  },
  {
   "cell_type": "code",
   "execution_count": 15,
   "id": "bccdb6b9-b738-434d-9beb-51f2ecf7ce43",
   "metadata": {},
   "outputs": [
    {
     "name": "stdout",
     "output_type": "stream",
     "text": [
      "\n",
      "Zero Array with 5th element replaced with 1:\n",
      "[0. 0. 0. 0. 1. 0. 0. 0. 0. 0.]\n"
     ]
    }
   ],
   "source": [
    "zero_array = np.zeros(10)\n",
    "zero_array[4] = 1  # 5th element (index 4) is replaced with 1\n",
    "print(\"\\nZero Array with 5th element replaced with 1:\")\n",
    "print(zero_array)"
   ]
  },
  {
   "cell_type": "code",
   "execution_count": 17,
   "id": "d58ccee0-5e93-4dd2-b8c8-008af07927cf",
   "metadata": {},
   "outputs": [
    {
     "name": "stdout",
     "output_type": "stream",
     "text": [
      "\n",
      "Reversed Array:\n",
      "[0 4 0 0 2 1]\n"
     ]
    }
   ],
   "source": [
    "arr = np.array([1, 2, 0, 0, 4, 0])\n",
    "reversed_arr = arr[::-1]\n",
    "print(\"\\nReversed Array:\")\n",
    "print(reversed_arr)"
   ]
  },
  {
   "cell_type": "code",
   "execution_count": 19,
   "id": "a5457afc-fecb-459b-92c8-1c32956e3b88",
   "metadata": {},
   "outputs": [
    {
     "name": "stdout",
     "output_type": "stream",
     "text": [
      "\n",
      "2D Array with 1 on border and 0 inside:\n",
      "[[1. 1. 1. 1. 1.]\n",
      " [1. 0. 0. 0. 1.]\n",
      " [1. 0. 0. 0. 1.]\n",
      " [1. 0. 0. 0. 1.]\n",
      " [1. 1. 1. 1. 1.]]\n"
     ]
    }
   ],
   "source": [
    "border_array = np.ones((5, 5))\n",
    "border_array[1:-1, 1:-1] = 0\n",
    "print(\"\\n2D Array with 1 on border and 0 inside:\")\n",
    "print(border_array)"
   ]
  },
  {
   "cell_type": "code",
   "execution_count": 21,
   "id": "f1adcdf7-64a5-462e-8dbd-22e038f0eeee",
   "metadata": {},
   "outputs": [
    {
     "name": "stdout",
     "output_type": "stream",
     "text": [
      "\n",
      "8X8 Checkerboard Pattern:\n",
      "[[0. 1. 0. 1. 0. 1. 0. 1.]\n",
      " [1. 0. 1. 0. 1. 0. 1. 0.]\n",
      " [0. 1. 0. 1. 0. 1. 0. 1.]\n",
      " [1. 0. 1. 0. 1. 0. 1. 0.]\n",
      " [0. 1. 0. 1. 0. 1. 0. 1.]\n",
      " [1. 0. 1. 0. 1. 0. 1. 0.]\n",
      " [0. 1. 0. 1. 0. 1. 0. 1.]\n",
      " [1. 0. 1. 0. 1. 0. 1. 0.]]\n"
     ]
    }
   ],
   "source": [
    "checkerboard_pattern = np.zeros((8, 8))\n",
    "checkerboard_pattern[1::2, ::2] = 1\n",
    "checkerboard_pattern[::2, 1::2] = 1\n",
    "print(\"\\n8X8 Checkerboard Pattern:\")\n",
    "print(checkerboard_pattern)"
   ]
  },
  {
   "cell_type": "code",
   "execution_count": 23,
   "id": "95398d5d-1bfe-47f1-91f3-49cad344c92b",
   "metadata": {},
   "outputs": [
    {
     "name": "stdout",
     "output_type": "stream",
     "text": [
      "Sum of v and w:\n",
      "[5 7 9]\n",
      "\n",
      "Difference of v and w:\n",
      "[-3 -3 -3]\n",
      "\n",
      "Array v multiplied by 2:\n",
      "[2 4 6]\n",
      "\n",
      "Square of each element of v:\n",
      "[1 4 9]\n",
      "\n",
      "Dot Product between v and w: 32\n",
      "Dot Product between x and v: 50\n",
      "Dot Product between x and y: 266\n",
      "\n",
      "Concatenate x and y along row:\n",
      "[ 7  8  9 10 11 12]\n",
      "\n",
      "Concatenate v and w along column:\n",
      "[[1 4]\n",
      " [2 5]\n",
      " [3 6]]\n",
      "\n",
      "Concatenate x and v along row:\n",
      "[7 8 9 1 2 3]\n"
     ]
    }
   ],
   "source": [
    "import numpy as np\n",
    "\n",
    "# Defining arrays v, w, x, and y\n",
    "v = np.array([1, 2, 3])\n",
    "w = np.array([4, 5, 6])\n",
    "x = np.array([7, 8, 9])\n",
    "y = np.array([10, 11, 12])\n",
    "\n",
    "# 1. Add the two arrays\n",
    "sum_array = v + w\n",
    "print(\"Sum of v and w:\")\n",
    "print(sum_array)\n",
    "\n",
    "# 2. Subtract the two arrays\n",
    "difference_array = v - w\n",
    "print(\"\\nDifference of v and w:\")\n",
    "print(difference_array)\n",
    "\n",
    "# 3. Multiply the array with any integer (let's choose 2)\n",
    "multiplied_array = v * 2\n",
    "print(\"\\nArray v multiplied by 2:\")\n",
    "print(multiplied_array)\n",
    "\n",
    "# 4. Find the square of each element of the array\n",
    "squared_array = np.square(v)\n",
    "print(\"\\nSquare of each element of v:\")\n",
    "print(squared_array)\n",
    "\n",
    "# 5. Find the dot product between: v and w; x and v; x and y\n",
    "dot_v_w = np.dot(v, w)\n",
    "dot_x_v = np.dot(x, v)\n",
    "dot_x_y = np.dot(x, y)\n",
    "print(\"\\nDot Product between v and w:\", dot_v_w)\n",
    "print(\"Dot Product between x and v:\", dot_x_v)\n",
    "print(\"Dot Product between x and y:\", dot_x_y)\n",
    "\n",
    "# 6. Concatenate x and y along rows and concatenate v and w along columns\n",
    "concat_x_y = np.concatenate((x, y), axis=0) \n",
    "concat_v_w = np.concatenate((v.reshape(-1, 1), w.reshape(-1, 1)), axis=1) \n",
    "print(\"\\nConcatenate x and y along row:\")\n",
    "print(concat_x_y)\n",
    "print(\"\\nConcatenate v and w along column:\")\n",
    "print(concat_v_w)\n",
    "\n",
    "# 7. Concatenate x and v; if you get an error, observe and explain why did you get the error?\n",
    "try:\n",
    "    concat_x_v = np.concatenate((x, v), axis=0) \n",
    "    print(\"\\nConcatenate x and v along row:\")\n",
    "    print(concat_x_v)\n",
    "except ValueError as e:\n",
    "    print(\"\\nError when trying to concatenate x and v along row:\")\n",
    "    print(e)\n"
   ]
  },
  {
   "cell_type": "code",
   "execution_count": 25,
   "id": "39d3a7ad-b7b6-4185-b540-91cd11db9d0a",
   "metadata": {},
   "outputs": [
    {
     "name": "stdout",
     "output_type": "stream",
     "text": [
      "A * A^-1 (should be identity matrix I):\n",
      "[[1.0000000e+00 4.4408921e-16]\n",
      " [0.0000000e+00 1.0000000e+00]]\n",
      "Identity matrix I:\n",
      "[[1. 0.]\n",
      " [0. 1.]]\n",
      "\n",
      "AB:\n",
      "[[23 13]\n",
      " [51 29]]\n",
      "\n",
      "BA:\n",
      "[[36 44]\n",
      " [13 16]]\n",
      "\n",
      "Is AB equal to BA?  False\n",
      "\n",
      "(AB)^T:\n",
      "[[23 51]\n",
      " [13 29]]\n",
      "\n",
      "B^T * A^T:\n",
      "[[23 51]\n",
      " [13 29]]\n",
      "\n",
      "Is (AB)^T equal to B^T * A^T?  True\n"
     ]
    }
   ],
   "source": [
    "\n",
    "A = np.array([[3, 4], [7, 8]])\n",
    "B = np.array([[5, 3], [2, 1]])\n",
    "\n",
    "# 1. Prove A * A^-1 = I (Identity matrix)\n",
    "A_inv = np.linalg.inv(A)  # Calculate the inverse of A\n",
    "I = np.identity(2)  # Identity matrix of size 2x2\n",
    "result_A_inv = np.dot(A, A_inv)  # A * A^-1\n",
    "\n",
    "print(\"A * A^-1 (should be identity matrix I):\")\n",
    "print(result_A_inv)\n",
    "print(\"Identity matrix I:\")\n",
    "print(I)\n",
    "\n",
    "# 2. Prove AB != BA\n",
    "AB = np.dot(A, B)  # Matrix multiplication AB\n",
    "BA = np.dot(B, A)  # Matrix multiplication BA\n",
    "\n",
    "print(\"\\nAB:\")\n",
    "print(AB)\n",
    "print(\"\\nBA:\")\n",
    "print(BA)\n",
    "print(\"\\nIs AB equal to BA? \", np.array_equal(AB, BA))\n",
    "\n",
    "# 3. Prove (AB)^T = B^T * A^T\n",
    "AB_T = np.transpose(AB)  # Transpose of AB\n",
    "B_T = np.transpose(B)  # Transpose of B\n",
    "A_T = np.transpose(A)  # Transpose of A\n",
    "B_T_A_T = np.dot(B_T, A_T)  # B^T * A^T\n",
    "\n",
    "print(\"\\n(AB)^T:\")\n",
    "print(AB_T)\n",
    "print(\"\\nB^T * A^T:\")\n",
    "print(B_T_A_T)\n",
    "print(\"\\nIs (AB)^T equal to B^T * A^T? \", np.array_equal(AB_T, B_T_A_T))\n"
   ]
  },
  {
   "cell_type": "code",
   "execution_count": 27,
   "id": "a1db3ceb-98b0-4c99-b346-a46ad139d73e",
   "metadata": {},
   "outputs": [
    {
     "name": "stdout",
     "output_type": "stream",
     "text": [
      "Solution for x, y, z:\n",
      "[[ 2.]\n",
      " [ 1.]\n",
      " [-2.]]\n"
     ]
    }
   ],
   "source": [
    "import numpy as np\n",
    "\n",
    "# Coefficient matrix A\n",
    "A = np.array([[2, -3, 1],\n",
    "              [1, -1, 2],\n",
    "              [3, 1, -1]])\n",
    "\n",
    "# Constants matrix B\n",
    "B = np.array([[-1],\n",
    "              [-3],\n",
    "              [9]])\n",
    "\n",
    "# Calculate the inverse of A\n",
    "A_inv = np.linalg.inv(A)\n",
    "\n",
    "# Calculate the solution X\n",
    "X = np.dot(A_inv, B)\n",
    "\n",
    "print(\"Solution for x, y, z:\")\n",
    "print(X)\n"
   ]
  },
  {
   "cell_type": "code",
   "execution_count": 29,
   "id": "d5e3e88f-52f4-4923-bec3-522f2269b0ae",
   "metadata": {},
   "outputs": [
    {
     "name": "stdout",
     "output_type": "stream",
     "text": [
      "Time taken using Python Lists: 0.08156919479370117 seconds\n",
      "Time taken using NumPy Arrays: 0.0 seconds\n"
     ]
    }
   ],
   "source": [
    "import time\n",
    "import numpy as np\n",
    "\n",
    "# Creating two lists of size 1,000,000\n",
    "list1 = [i for i in range(1, 1000001)]\n",
    "list2 = [i for i in range(1, 1000001)]\n",
    "\n",
    "start_time = time.time()\n",
    "list_sum = [x + y for x, y in zip(list1, list2)]\n",
    "list_time = time.time() - start_time\n",
    "\n",
    "array1 = np.array(list1)\n",
    "array2 = np.array(list2)\n",
    "\n",
    "start_time = time.time()\n",
    "array_sum = array1 + array2\n",
    "array_time = time.time() - start_time\n",
    "\n",
    "# Printing the time taken for each operation\n",
    "print(f\"Time taken using Python Lists: {list_time} seconds\")\n",
    "print(f\"Time taken using NumPy Arrays: {array_time} seconds\")\n"
   ]
  },
  {
   "cell_type": "code",
   "execution_count": 64,
   "id": "69b55da0-39aa-44c2-98d3-25549d7cf2ba",
   "metadata": {},
   "outputs": [
    {
     "name": "stdout",
     "output_type": "stream",
     "text": [
      "Time taken using Python Lists: 0.5631837844848633 seconds\n",
      "Time taken using NumPy Arrays: 0.005000591278076172 seconds\n"
     ]
    }
   ],
   "source": [
    "import time\n",
    "import numpy as np\n",
    "\n",
    "# Creating two lists of size 1,000,000\n",
    "list1 = [i for i in range(1, 1000001)]\n",
    "list2 = [i for i in range(1, 1000001)]\n",
    "\n",
    "start_time = time.time()\n",
    "list_multiply = [x * y for x, y in zip(list1, list2)]\n",
    "list_multiply_time = time.time() - start_time\n",
    "array1 = np.array(list1)\n",
    "array2 = np.array(list2)\n",
    "\n",
    "start_time = time.time()\n",
    "array_multiply = array1 * array2\n",
    "array_multiply_time = time.time() - start_time\n",
    "\n",
    "# Printing the time taken for each operation\n",
    "print(f\"Time taken using Python Lists: {list_multiply_time} seconds\")\n",
    "print(f\"Time taken using NumPy Arrays: {array_multiply_time} seconds\")\n"
   ]
  },
  {
   "cell_type": "code",
   "execution_count": 51,
   "id": "a95deccd-a1e2-49e0-9951-3e5387990c08",
   "metadata": {},
   "outputs": [
    {
     "name": "stdout",
     "output_type": "stream",
     "text": [
      "Time taken using Python Lists: 0.20411109924316406 seconds\n",
      "Time taken using NumPy Arrays: 0.0 seconds\n"
     ]
    }
   ],
   "source": [
    "import time\n",
    "import numpy as np\n",
    "\n",
    "# Creating two lists of size 1,000,000\n",
    "list1 = [i for i in range(1, 1000001)]\n",
    "list2 = [i for i in range(1, 1000001)]\n",
    "\n",
    "# Dot product using Python Lists\n",
    "start_time = time.time()\n",
    "dot_product_list = sum(x * y for x, y in zip(list1, list2))\n",
    "list_time = time.time() - start_time\n",
    "\n",
    "# Dot product using NumPy Arrays\n",
    "array1 = np.array(list1)\n",
    "array2 = np.array(list2)\n",
    "\n",
    "start_time = time.time()\n",
    "dot_product_array = np.dot(array1, array2)\n",
    "array_time = time.time() - start_time\n",
    "\n",
    "# Printing the time taken for each operation\n",
    "print(f\"Time taken using Python Lists: {list_time} seconds\")\n",
    "print(f\"Time taken using NumPy Arrays: {array_time} seconds\")\n"
   ]
  },
  {
   "cell_type": "code",
   "execution_count": 63,
   "id": "98807d17-a890-4212-a260-2e6dfe4a9242",
   "metadata": {},
   "outputs": [
    {
     "name": "stdout",
     "output_type": "stream",
     "text": [
      "Time taken using Python Lists: 80799.44284248352 seconds\n",
      "Time taken using NumPy Arrays: 3.1162052154541016 seconds\n"
     ]
    }
   ],
   "source": [
    "import time\n",
    "import numpy as np\n",
    "\n",
    "# Creating two 1000x1000 matrices using Python lists\n",
    "matrix1 = [[i for i in range(1000)] for j in range(1000)]\n",
    "matrix2 = [[i for i in range(1000)] for j in range(1000)]\n",
    "\n",
    "# Matrix multiplication using Python lists\n",
    "start_time = time.time()\n",
    "result_list = [[sum(a * b for a, b in zip(matrix1_row, matrix2_col)) for matrix2_col in zip(*matrix2)] for matrix1_row in matrix1]\n",
    "list_time = time.time() - start_time\n",
    "\n",
    "# Matrix multiplication using NumPy arrays\n",
    "array1 = np.array(matrix1)\n",
    "array2 = np.array(matrix2)\n",
    "\n",
    "start_time = time.time()\n",
    "result_array = np.dot(array1, array2)\n",
    "\n",
    "array_time = time.time() - start_time\n",
    "\n",
    "# Printing the time taken for each operation\n",
    "print(f\"Time taken using Python Lists: {list_time} seconds\")\n",
    "print(f\"Time taken using NumPy Arrays: {array_time} seconds\")\n"
   ]
  },
  {
   "cell_type": "code",
   "execution_count": null,
   "id": "8b9018ef-6d3a-4915-8c7d-22f2ae8b7405",
   "metadata": {},
   "outputs": [],
   "source": []
  },
  {
   "cell_type": "code",
   "execution_count": null,
   "id": "f9b2ef21-adde-41f6-99d0-e725dbb1ca8e",
   "metadata": {},
   "outputs": [],
   "source": []
  },
  {
   "cell_type": "code",
   "execution_count": null,
   "id": "f8dddf5f-e7bc-4928-bc6f-7efae4de15a3",
   "metadata": {},
   "outputs": [],
   "source": []
  }
 ],
 "metadata": {
  "kernelspec": {
   "display_name": "Python 3 (ipykernel)",
   "language": "python",
   "name": "python3"
  },
  "language_info": {
   "codemirror_mode": {
    "name": "ipython",
    "version": 3
   },
   "file_extension": ".py",
   "mimetype": "text/x-python",
   "name": "python",
   "nbconvert_exporter": "python",
   "pygments_lexer": "ipython3",
   "version": "3.12.4"
  }
 },
 "nbformat": 4,
 "nbformat_minor": 5
}
